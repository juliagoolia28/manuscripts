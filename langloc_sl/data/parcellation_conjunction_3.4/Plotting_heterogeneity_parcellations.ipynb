{
 "cells": [
  {
   "cell_type": "code",
   "execution_count": 1,
   "metadata": {},
   "outputs": [
    {
     "name": "stderr",
     "output_type": "stream",
     "text": [
      "/Users/julie/Library/Python/3.8/lib/python/site-packages/nilearn/datasets/__init__.py:93: FutureWarning: Fetchers from the nilearn.datasets module will be updated in version 0.9 to return python strings instead of bytes and Pandas dataframes instead of Numpy arrays.\n",
      "  warn(\"Fetchers from the nilearn.datasets module will be \"\n"
     ]
    }
   ],
   "source": [
    "import nilearn\n",
    "from nilearn import plotting"
   ]
  },
  {
   "cell_type": "code",
   "execution_count": 2,
   "metadata": {},
   "outputs": [],
   "source": [
    "plotting.plot_glass_brain('langloc_parcels_percent_n22_blastadult.nii.gz', output_file ='langloc_parcels_percent',display_mode='lyrz', vmax=0.5, colorbar=True, symmetric_cbar=True, plot_abs=True, title='Percent of Group Activation for Intact > Degraded Speech')"
   ]
  },
  {
   "cell_type": "code",
   "execution_count": 3,
   "metadata": {},
   "outputs": [],
   "source": [
    "plotting.plot_glass_brain('ssl_strvrd__parcels_percent_n22_blastadult.nii.gz', output_file ='str_v_rd_percent', display_mode='lyrz', vmin = 0, colorbar=True, symmetric_cbar=True, plot_abs=True, title='Percent of Group Activation for Structured > Random Speech')"
   ]
  },
  {
   "cell_type": "code",
   "execution_count": 16,
   "metadata": {},
   "outputs": [],
   "source": [
    "plotting.plot_glass_brain('asl_22_probability_map_3.09_thresh2subjs_smoothed.nii.gz', output_file ='str_v_rd_pct_from_terri_001', display_mode='lyrz', vmax = 10, colorbar=True, symmetric_cbar=True, plot_abs=True, title='Percent of Group Activation for Structured > Random Speech')"
   ]
  },
  {
   "cell_type": "code",
   "execution_count": 17,
   "metadata": {},
   "outputs": [],
   "source": [
    "plotting.plot_glass_brain('LangLoc_resampled_zthresh3.090232_probability_map_thresh2subjs_smoothed.nii.gz', output_file ='intact_v_deg_pct_from_terri_001', display_mode='lyrz', vmax = 10, colorbar=True, symmetric_cbar=True, plot_abs=True, title='Percent of Group Activation for Intact > Degraded Speech')"
   ]
  },
  {
   "cell_type": "code",
   "execution_count": 18,
   "metadata": {},
   "outputs": [],
   "source": [
    "plotting.plot_glass_brain('Conjunction_at_thresh3.09_probability_map_thresh2subjs_smoothed.nii.gz', output_file ='conjunct_pct_from_terri_001', display_mode='lyrz', vmax = 10, colorbar=True, symmetric_cbar=True, plot_abs=True, title='Percent of Group Conjunction across Tasks')"
   ]
  },
  {
   "cell_type": "code",
   "execution_count": null,
   "metadata": {},
   "outputs": [],
   "source": []
  }
 ],
 "metadata": {
  "kernelspec": {
   "display_name": "Python 3 (ipykernel)",
   "language": "python",
   "name": "python3"
  },
  "language_info": {
   "codemirror_mode": {
    "name": "ipython",
    "version": 3
   },
   "file_extension": ".py",
   "mimetype": "text/x-python",
   "name": "python",
   "nbconvert_exporter": "python",
   "pygments_lexer": "ipython3",
   "version": "3.8.2"
  }
 },
 "nbformat": 4,
 "nbformat_minor": 4
}
